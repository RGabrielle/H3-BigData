{
 "cells": [
  {
   "cell_type": "code",
   "execution_count": 12,
   "metadata": {},
   "outputs": [
    {
     "name": "stdout",
     "output_type": "stream",
     "text": [
      "Lettre:\n",
      "Adresse de Destination: Lille\n",
      " Adresse dexpedition: Paris\n",
      "  Poids: 80.00 grammes\n",
      "  Mode: normal\n",
      "Format: A4\n",
      " Prix du Timbre: 0.20\n",
      "None\n",
      "Colis:\n",
      "Adresse de Destination: Marrakeche\n",
      " Adresse dexpedition: Barcelone\n",
      "  Poids: 3500.00 grammes\n",
      "  Mode: express\n",
      "Volume: 2.25 littres\n",
      " Prix du Timbre: 3937.50\n",
      "None\n"
     ]
    }
   ],
   "source": [
    "class Courrier:\n",
    "    def __init__(self, AdresseDestination, AdresseExpedition, poids, mode):\n",
    "        self.AdresseDestination=AdresseDestination\n",
    "        self.AdresseExpedition=AdresseExpedition\n",
    "        self.poids=poids\n",
    "        self.mode=mode\n",
    "    \n",
    "    def ToString(self):\n",
    "        print(\"Adresse de Destination: %s\\n Adresse dexpedition: %s\\n  Poids: %.02f grammes\\n  Mode: %s\"%(self.AdresseDestination,self.AdresseExpedition,  self.poids, self.mode))\n",
    "             \n",
    "class Lettre(Courrier): \n",
    "    def __init__(self, AdresseDestination, AdresseExpedition, poids, mode, format):\n",
    "        Courrier.__init__(self, AdresseDestination, AdresseExpedition, poids, mode)\n",
    "        self.format=format\n",
    "    \n",
    "    def calculTimbre(self):\n",
    "        if self.format==\"A4\":tarif_base=2.5\n",
    "        if self.format==\"A3\":tarif_base=3.5\n",
    "            \n",
    "        montant=tarif_base*self.poids/1000\n",
    "        \n",
    "        if self.mode==\"express\":montant*=2\n",
    "        return montant\n",
    "    \n",
    "    def ToString(self):\n",
    "        print(\"Lettre:\")\n",
    "        Courrier.ToString(self)\n",
    "        print(\"Format: %s\\n Prix du Timbre: %.02f\"%(self.format, self.calculTimbre()))\n",
    "        \n",
    "class Colis(Courrier):\n",
    "    def __init__(self, AdresseDestination, AdresseExpedition, poids, mode, volume):\n",
    "        Courrier.__init__(self, AdresseDestination, AdresseExpedition, poids, mode)\n",
    "        self.volume=volume\n",
    "    \n",
    "    def calculTimbre(self):\n",
    "        montant= 0.0\n",
    "        montant=0.25*self.volume*self.poids\n",
    "        if self.mode==\"express\":montant*=2\n",
    "        return montant\n",
    "    \n",
    "    def ToString(self):\n",
    "        print(\"Colis:\")\n",
    "        Courrier.ToString(self)\n",
    "        print(\"Volume: %.02f littres\\n Prix du Timbre: %.02f\"%(self.volume, self.calculTimbre()))\n",
    "    \n",
    "L1=Lettre(\"Lille\",\"Paris\",80,\"normal\",\"A4\")\n",
    "print(L1.ToString())\n",
    "\n",
    "\n",
    "C1=Colis(\"Marrakeche\",\"Barcelone\",3500,\"express\",2.25)\n",
    "print(C1.ToString())"
   ]
  },
  {
   "cell_type": "code",
   "execution_count": null,
   "metadata": {},
   "outputs": [],
   "source": []
  }
 ],
 "metadata": {
  "kernelspec": {
   "display_name": "Python 3",
   "language": "python",
   "name": "python3"
  },
  "language_info": {
   "codemirror_mode": {
    "name": "ipython",
    "version": 3
   },
   "file_extension": ".py",
   "mimetype": "text/x-python",
   "name": "python",
   "nbconvert_exporter": "python",
   "pygments_lexer": "ipython3",
   "version": "3.7.3"
  }
 },
 "nbformat": 4,
 "nbformat_minor": 4
}
