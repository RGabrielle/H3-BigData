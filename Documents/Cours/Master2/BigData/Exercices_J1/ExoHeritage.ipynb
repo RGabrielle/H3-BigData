{
 "cells": [
  {
   "cell_type": "code",
   "execution_count": 10,
   "metadata": {},
   "outputs": [
    {
     "name": "stdout",
     "output_type": "stream",
     "text": [
      "Nom:Ilyass \n",
      "Prénom: Math  \n",
      "Date de naissance: 1 /7 /1982\n",
      "None\n",
      "Nom:Ilyass \n",
      "Prénom: Math  \n",
      "Date de naissance: 1 /7 /1985\n",
      "Salaire: 7865.55\n",
      "None\n",
      "Nom:Ilyass \n",
      "Prénom: Math  \n",
      "Date de naissance: 1 /7 /1988\n",
      "Salaire: 7865.55\n",
      "Service: Ressource humaine\n",
      "None\n"
     ]
    }
   ],
   "source": [
    "class DateNaissance:\n",
    "    def __init__(self, jour, mois, annee):\n",
    "        self.jour=jour\n",
    "        self.mois=mois\n",
    "        self.annee=annee\n",
    "        \n",
    "    def ToString(self):\n",
    "        return \"%.f /%.f /%d\" %(self.jour, self.mois, self.annee)\n",
    "\n",
    "class personne:\n",
    "    def __init__(self, nom, prenom, date_naissance):\n",
    "        self.nom=nom\n",
    "        self.prenom=prenom\n",
    "        self.date_naissance=date_naissance\n",
    "    def afficher(self):\n",
    "        print(\"Nom:%s \\nPrénom: %s  \\nDate de naissance: %s\"%(self.nom, self.prenom, self.date_naissance.ToString()))\n",
    "\n",
    "class employe(personne):\n",
    "    def __init__(self, nom, prenom, date_naissance, salaire):\n",
    "        personne.__init__(self, nom, prenom, date_naissance)\n",
    "        self.salaire=salaire\n",
    "    def afficher(self):\n",
    "        personne.afficher(self)\n",
    "        print(\"Salaire: %.02f\"%self.salaire)\n",
    "class chef(employe):\n",
    "    def __init__(self, nom, prenom, date_naissance, salaire, service):\n",
    "        employe.__init__(self, nom, prenom, date_naissance, salaire)\n",
    "        self.service=service\n",
    "    def afficher(self):\n",
    "        employe.afficher(self)\n",
    "        print(\"Service: %s\"%self.service)\n",
    "        \n",
    "P=personne(\"Ilyass\",\"Math\",DateNaissance(1,7,1982))\n",
    "print(P.afficher())\n",
    "\n",
    "\n",
    "E=employe(\"Ilyass\",\"Math\",DateNaissance(1,7,1985),7865.548)\n",
    "print(E.afficher())\n",
    "\n",
    "Ch=chef(\"Ilyass\",\"Math\",DateNaissance(1,7,1988),7865.548,\"Ressource humaine\")\n",
    "print(Ch.afficher())"
   ]
  },
  {
   "cell_type": "code",
   "execution_count": null,
   "metadata": {},
   "outputs": [],
   "source": []
  }
 ],
 "metadata": {
  "kernelspec": {
   "display_name": "Python 3",
   "language": "python",
   "name": "python3"
  },
  "language_info": {
   "codemirror_mode": {
    "name": "ipython",
    "version": 3
   },
   "file_extension": ".py",
   "mimetype": "text/x-python",
   "name": "python",
   "nbconvert_exporter": "python",
   "pygments_lexer": "ipython3",
   "version": "3.7.3"
  }
 },
 "nbformat": 4,
 "nbformat_minor": 4
}
