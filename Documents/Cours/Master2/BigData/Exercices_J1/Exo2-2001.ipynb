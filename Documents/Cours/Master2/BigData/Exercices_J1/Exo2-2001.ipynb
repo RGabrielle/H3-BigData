{
 "cells": [
  {
   "cell_type": "code",
   "execution_count": 2,
   "metadata": {},
   "outputs": [
    {
     "name": "stdout",
     "output_type": "stream",
     "text": [
      "<__main__.DescriptionDeLObject object at 0x05E5EF90>\n"
     ]
    }
   ],
   "source": [
    "class DescriptionDeLObject : \n",
    "    pass\n",
    "MonObjet = DescriptionDeLObject() \n",
    "print(MonObjet)"
   ]
  },
  {
   "cell_type": "code",
   "execution_count": 3,
   "metadata": {},
   "outputs": [
    {
     "name": "stdout",
     "output_type": "stream",
     "text": [
      "Ceci est une méthode sur un objet : 'tada' \n"
     ]
    }
   ],
   "source": [
    "class DescriptionDeLObject : \n",
    "    def la_methode(objet_en_cours):\n",
    "        print(\"Ceci est une méthode sur un objet : 'tada' \")\n",
    "MonObjet = DescriptionDeLObject()\n",
    "MonObjet.la_methode()"
   ]
  },
  {
   "cell_type": "code",
   "execution_count": 4,
   "metadata": {},
   "outputs": [
    {
     "data": {
      "text/plain": [
       "<__main__.DescriptionDeLObjectBis at 0x5e5e770>"
      ]
     },
     "execution_count": 4,
     "metadata": {},
     "output_type": "execute_result"
    }
   ],
   "source": [
    "class DescriptionDeLObjectBis : \n",
    "    def une_methode(objet_en_cours):\n",
    "        return objet_en_cours\n",
    "ObjetBis = DescriptionDeLObjectBis() \n",
    "ObjetBis.une_methode() "
   ]
  },
  {
   "cell_type": "code",
   "execution_count": 5,
   "metadata": {},
   "outputs": [
    {
     "name": "stdout",
     "output_type": "stream",
     "text": [
      "un truc\n"
     ]
    }
   ],
   "source": [
    "class UneClasse : \n",
    "    def methode(self): \n",
    "        print('un truc')\n",
    "        \n",
    "ex = UneClasse()\n",
    "ex.methode()"
   ]
  },
  {
   "cell_type": "code",
   "execution_count": 6,
   "metadata": {},
   "outputs": [
    {
     "name": "stdout",
     "output_type": "stream",
     "text": [
      "L'objet à bien été crée !\n",
      "La méthode est appelé automatiquement à la déclaration de l'objet\n"
     ]
    }
   ],
   "source": [
    "class UneAutreClass : \n",
    "    def __init__(self) :\n",
    "        print(\"L'objet à bien été crée !\")\n",
    "        print(\"La méthode est appelé automatiquement à la déclaration de l'objet\")\n",
    "\n",
    "x = UneAutreClass()"
   ]
  },
  {
   "cell_type": "code",
   "execution_count": null,
   "metadata": {},
   "outputs": [],
   "source": []
  }
 ],
 "metadata": {
  "kernelspec": {
   "display_name": "Python 3",
   "language": "python",
   "name": "python3"
  },
  "language_info": {
   "codemirror_mode": {
    "name": "ipython",
    "version": 3
   },
   "file_extension": ".py",
   "mimetype": "text/x-python",
   "name": "python",
   "nbconvert_exporter": "python",
   "pygments_lexer": "ipython3",
   "version": "3.7.3"
  }
 },
 "nbformat": 4,
 "nbformat_minor": 4
}
